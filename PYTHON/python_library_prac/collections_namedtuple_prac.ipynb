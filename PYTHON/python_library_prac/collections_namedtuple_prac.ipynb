{
 "cells": [
  {
   "cell_type": "code",
   "execution_count": 10,
   "metadata": {},
   "outputs": [],
   "source": [
    "from collections import namedtuple"
   ]
  },
  {
   "cell_type": "code",
   "execution_count": 1,
   "id": "d19048ec",
   "metadata": {},
   "outputs": [],
   "source": [
    "data = [ ('홍길동', 23, '01099990001'), \n",
    "    ('김철수', 31, '01099991002'), \n",
    "    ('이영희', 29, '01099992003'),\n",
    "]"
   ]
  },
  {
   "cell_type": "code",
   "execution_count": 7,
   "id": "05773a29",
   "metadata": {},
   "outputs": [],
   "source": [
    "emp = data[0]"
   ]
  },
  {
   "cell_type": "code",
   "execution_count": 9,
   "id": "93f25a99",
   "metadata": {},
   "outputs": [
    {
     "ename": "AttributeError",
     "evalue": "'tuple' object has no attribute 'name'",
     "output_type": "error",
     "traceback": [
      "\u001b[0;31m---------------------------------------------------------------------------\u001b[0m",
      "\u001b[0;31mAttributeError\u001b[0m                            Traceback (most recent call last)",
      "\u001b[1;32m/Users/kylekim1223/Learn/jump_to_library/collection_namedtuple_prac.ipynb Cell 4'\u001b[0m in \u001b[0;36m<cell line: 1>\u001b[0;34m()\u001b[0m\n\u001b[0;32m----> <a href='vscode-notebook-cell:/Users/kylekim1223/Learn/jump_to_library/collection_namedtuple_prac.ipynb#ch0000003?line=0'>1</a>\u001b[0m \u001b[39mprint\u001b[39m(emp\u001b[39m.\u001b[39;49mname)\n",
      "\u001b[0;31mAttributeError\u001b[0m: 'tuple' object has no attribute 'name'"
     ]
    }
   ],
   "source": [
    "print(emp.name)"
   ]
  },
  {
   "cell_type": "code",
   "execution_count": 14,
   "id": "e86496b0",
   "metadata": {},
   "outputs": [],
   "source": [
    "Employee = namedtuple('Employee','name, age, cellphone')"
   ]
  },
  {
   "cell_type": "code",
   "execution_count": 16,
   "id": "361a5471",
   "metadata": {},
   "outputs": [],
   "source": [
    "data = [Employee._make(emp) for emp in data]"
   ]
  },
  {
   "cell_type": "code",
   "execution_count": 17,
   "id": "29b3bd13",
   "metadata": {},
   "outputs": [
    {
     "data": {
      "text/plain": [
       "[Employee(name='홍길동', age=23, cellphone='01099990001'),\n",
       " Employee(name='김철수', age=31, cellphone='01099991002'),\n",
       " Employee(name='이영희', age=29, cellphone='01099992003')]"
      ]
     },
     "execution_count": 17,
     "metadata": {},
     "output_type": "execute_result"
    }
   ],
   "source": [
    "data"
   ]
  },
  {
   "cell_type": "code",
   "execution_count": 18,
   "id": "59c8d863",
   "metadata": {},
   "outputs": [],
   "source": [
    "emp = data[0]"
   ]
  },
  {
   "cell_type": "code",
   "execution_count": 19,
   "id": "3485c0de",
   "metadata": {},
   "outputs": [
    {
     "data": {
      "text/plain": [
       "'홍길동'"
      ]
     },
     "execution_count": 19,
     "metadata": {},
     "output_type": "execute_result"
    }
   ],
   "source": [
    "emp[0]"
   ]
  },
  {
   "cell_type": "code",
   "execution_count": 20,
   "id": "12c89bc1",
   "metadata": {},
   "outputs": [
    {
     "data": {
      "text/plain": [
       "23"
      ]
     },
     "execution_count": 20,
     "metadata": {},
     "output_type": "execute_result"
    }
   ],
   "source": [
    "emp[1]"
   ]
  },
  {
   "cell_type": "code",
   "execution_count": 21,
   "id": "a9230ddd",
   "metadata": {},
   "outputs": [
    {
     "data": {
      "text/plain": [
       "23"
      ]
     },
     "execution_count": 21,
     "metadata": {},
     "output_type": "execute_result"
    }
   ],
   "source": [
    "emp.age"
   ]
  },
  {
   "cell_type": "code",
   "execution_count": 22,
   "id": "8e544dd0",
   "metadata": {},
   "outputs": [
    {
     "data": {
      "text/plain": [
       "{'name': '홍길동', 'age': 23, 'cellphone': '01099990001'}"
      ]
     },
     "execution_count": 22,
     "metadata": {},
     "output_type": "execute_result"
    }
   ],
   "source": [
    "emp._asdict()"
   ]
  },
  {
   "cell_type": "code",
   "execution_count": 44,
   "id": "69433650",
   "metadata": {},
   "outputs": [],
   "source": [
    "data2 = [\n",
    "    ('김용균', '무직', '010-7154-4842'),\n",
    "    ('임세령', '증권업', '010-7989-4855'),\n",
    "    ('서경선', '가정주부', '010-4050-3677')\n",
    "]"
   ]
  },
  {
   "cell_type": "code",
   "execution_count": 43,
   "id": "7c91f191",
   "metadata": {},
   "outputs": [],
   "source": [
    "Employee2 = namedtuple('Employee2', 'name, job, cell')"
   ]
  },
  {
   "cell_type": "code",
   "execution_count": 47,
   "id": "aa9fae01",
   "metadata": {},
   "outputs": [],
   "source": [
    "data2 = [Employee2._make(emp) for emp in data2]"
   ]
  },
  {
   "cell_type": "code",
   "execution_count": 48,
   "id": "87f07672",
   "metadata": {},
   "outputs": [
    {
     "data": {
      "text/plain": [
       "[Employee2(name='김용균', job='무직', cell='010-7154-4842'),\n",
       " Employee2(name='임세령', job='증권업', cell='010-7989-4855'),\n",
       " Employee2(name='서경선', job='가정주부', cell='010-4050-3677')]"
      ]
     },
     "execution_count": 48,
     "metadata": {},
     "output_type": "execute_result"
    }
   ],
   "source": [
    "data2"
   ]
  },
  {
   "cell_type": "code",
   "execution_count": 49,
   "id": "398ea1a3",
   "metadata": {},
   "outputs": [],
   "source": [
    "emp1 = data2[0]"
   ]
  },
  {
   "cell_type": "code",
   "execution_count": 50,
   "id": "0ab0c711",
   "metadata": {},
   "outputs": [
    {
     "data": {
      "text/plain": [
       "'김용균'"
      ]
     },
     "execution_count": 50,
     "metadata": {},
     "output_type": "execute_result"
    }
   ],
   "source": [
    "emp1.name"
   ]
  },
  {
   "cell_type": "code",
   "execution_count": 51,
   "id": "d33fa842",
   "metadata": {},
   "outputs": [
    {
     "data": {
      "text/plain": [
       "'무직'"
      ]
     },
     "execution_count": 51,
     "metadata": {},
     "output_type": "execute_result"
    }
   ],
   "source": [
    "emp1.job"
   ]
  },
  {
   "cell_type": "code",
   "execution_count": 53,
   "id": "479bdc3a",
   "metadata": {},
   "outputs": [
    {
     "data": {
      "text/plain": [
       "{'name': '홍길동', 'age': 23, 'cellphone': '01099990001'}"
      ]
     },
     "execution_count": 53,
     "metadata": {},
     "output_type": "execute_result"
    }
   ],
   "source": [
    "emp._asdict()"
   ]
  },
  {
   "cell_type": "code",
   "execution_count": 54,
   "id": "5d83623f",
   "metadata": {},
   "outputs": [
    {
     "data": {
      "text/plain": [
       "'홍길동'"
      ]
     },
     "execution_count": 54,
     "metadata": {},
     "output_type": "execute_result"
    }
   ],
   "source": [
    "emp.name"
   ]
  },
  {
   "cell_type": "code",
   "execution_count": 55,
   "id": "bf2f9d5d",
   "metadata": {},
   "outputs": [
    {
     "data": {
      "text/plain": [
       "'김용균'"
      ]
     },
     "execution_count": 55,
     "metadata": {},
     "output_type": "execute_result"
    }
   ],
   "source": [
    "emp1.name"
   ]
  },
  {
   "cell_type": "markdown",
   "id": "f3396384",
   "metadata": {},
   "source": [
    "네임드 튜플은 값을 변경할 수 없는 튜플의 특징 그대로 가짐\n",
    "_replace 함수로 값을 바꿀 수 있으나\n",
    "이마저도 원래 튜플객체를 직접 변경하는 것이 아닌 값을 변경한 새로운 객체를 만들어 반환한다"
   ]
  },
  {
   "cell_type": "code",
   "execution_count": 56,
   "id": "16bf87f4",
   "metadata": {},
   "outputs": [
    {
     "data": {
      "text/plain": [
       "Employee(name='긴또깡', age=23, cellphone='01099990001')"
      ]
     },
     "execution_count": 56,
     "metadata": {},
     "output_type": "execute_result"
    }
   ],
   "source": [
    "emp._replace(name='긴또깡')"
   ]
  },
  {
   "cell_type": "code",
   "execution_count": 57,
   "id": "02c09394",
   "metadata": {},
   "outputs": [
    {
     "data": {
      "text/plain": [
       "'홍길동'"
      ]
     },
     "execution_count": 57,
     "metadata": {},
     "output_type": "execute_result"
    }
   ],
   "source": [
    "emp.name\n",
    "\n"
   ]
  },
  {
   "cell_type": "code",
   "execution_count": 60,
   "id": "8b7bcc26",
   "metadata": {},
   "outputs": [],
   "source": [
    "new_emp = emp._replace(name='긴또깡', age=32)"
   ]
  },
  {
   "cell_type": "code",
   "execution_count": 61,
   "id": "02b5fedc",
   "metadata": {},
   "outputs": [
    {
     "data": {
      "text/plain": [
       "Employee(name='긴또깡', age=32, cellphone='01099990001')"
      ]
     },
     "execution_count": 61,
     "metadata": {},
     "output_type": "execute_result"
    }
   ],
   "source": [
    "new_emp"
   ]
  },
  {
   "cell_type": "code",
   "execution_count": null,
   "id": "5d02c599",
   "metadata": {},
   "outputs": [],
   "source": []
  }
 ],
 "metadata": {
  "kernelspec": {
   "display_name": "Python 3.9.13 64-bit",
   "language": "python",
   "name": "python3"
  },
  "language_info": {
   "codemirror_mode": {
    "name": "ipython",
    "version": 3
   },
   "file_extension": ".py",
   "mimetype": "text/x-python",
   "name": "python",
   "nbconvert_exporter": "python",
   "pygments_lexer": "ipython3",
   "version": "3.9.13"
  },
  "vscode": {
   "interpreter": {
    "hash": "b0fa6594d8f4cbf19f97940f81e996739fb7646882a419484c72d19e05852a7e"
   }
  }
 },
 "nbformat": 4,
 "nbformat_minor": 5
}
