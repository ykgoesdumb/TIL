{
 "cells": [
  {
   "cell_type": "markdown",
   "metadata": {},
   "source": [
    "## 다중상속\n",
    "\n",
    "- 2개 이상의 클래스를 상속받는 경우\n",
    "- 상속 받은 모든 클래스의 attribute 와 method 를 모두 사용 가능"
   ]
  },
  {
   "cell_type": "code",
   "execution_count": 1,
   "metadata": {},
   "outputs": [],
   "source": [
    "# 클래스 선언\n",
    "class Person:\n",
    "    def sleep(self):\n",
    "        print('Sleep')\n",
    "\n",
    "class Student(Person):\n",
    "    def study(self):\n",
    "        print('Study Hard')\n",
    "\n",
    "class Worker(Person):\n",
    "    def work(self):\n",
    "        print('Work Hard')\n",
    "\n",
    "class Mage(Person):\n",
    "    def magic(self):\n",
    "        print('Doing Magic')\n",
    "\n",
    "# 다중 상속\n",
    "class WorkingMagician(Worker, Mage):\n",
    "    def Magic_As_Work(self):\n",
    "        print('I am doing this for living')\n",
    "\n"
   ]
  },
  {
   "cell_type": "code",
   "execution_count": 8,
   "metadata": {},
   "outputs": [
    {
     "name": "stdout",
     "output_type": "stream",
     "text": [
      "Work Hard\n",
      "Doing Magic\n",
      "Sleep\n"
     ]
    }
   ],
   "source": [
    "wm = WorkingMagician()\n",
    "wm.work()\n",
    "wm.magic()\n",
    "wm.sleep()\n"
   ]
  },
  {
   "cell_type": "markdown",
   "metadata": {},
   "source": [
    "아래의 코드는 다중상속을 한 객체를 생성할때 최상위 클래스를 두번 호출하는 불필요함을 야기한다"
   ]
  },
  {
   "cell_type": "code",
   "execution_count": 14,
   "metadata": {},
   "outputs": [],
   "source": [
    "class Person:\n",
    "    def __init__(self):\n",
    "        print('I am a person')\n",
    "\n",
    "class Student(Person):\n",
    "    def __init__(self):\n",
    "        Person.__init__(self)\n",
    "        print('and also a student')\n",
    "\n",
    "class Worker(Person):\n",
    "    def __init__(self):\n",
    "        Person.__init__(self)\n",
    "        print('and also a worker')\n",
    "\n",
    "class Doctor(Person):\n",
    "    def __init__(self):\n",
    "        Person.__init__(self)\n",
    "        print('and also a doctor')\n",
    "\n",
    "\n",
    "class Resident(Student, Doctor):\n",
    "    def __init__(self):\n",
    "        Student.__init__(self)\n",
    "        Doctor.__init__(self)\n",
    "        print('Wow I am doing both')\n"
   ]
  },
  {
   "cell_type": "code",
   "execution_count": 15,
   "metadata": {},
   "outputs": [
    {
     "name": "stdout",
     "output_type": "stream",
     "text": [
      "I am a person\n",
      "and also a student\n",
      "I am a person\n",
      "and also a doctor\n",
      "Wow I am doing both\n"
     ]
    }
   ],
   "source": [
    "resident = Resident()\n"
   ]
  },
  {
   "cell_type": "markdown",
   "metadata": {},
   "source": [
    "### super() 내장함수"
   ]
  },
  {
   "cell_type": "code",
   "execution_count": 17,
   "metadata": {},
   "outputs": [],
   "source": [
    "class Person:\n",
    "    def __init__(self):\n",
    "        print('I am a person')\n",
    "\n",
    "class Student(Person):\n",
    "    def __init__(self):\n",
    "        super().__init__()\n",
    "        print('and also a student')\n",
    "    \n",
    "class Doctor(Person):\n",
    "    def __init__(self):\n",
    "        super().__init__()\n",
    "        print('and also a doctor')\n",
    "\n",
    "class Resident(Student, Doctor):\n",
    "    def __init__(self):\n",
    "        super().__init__()\n",
    "        print('Wow I am doing both')"
   ]
  },
  {
   "cell_type": "code",
   "execution_count": 18,
   "metadata": {},
   "outputs": [
    {
     "name": "stdout",
     "output_type": "stream",
     "text": [
      "I am a person\n",
      "and also a doctor\n",
      "and also a student\n",
      "Wow I am doing both\n"
     ]
    }
   ],
   "source": [
    "resident2 = Resident()"
   ]
  },
  {
   "cell_type": "markdown",
   "metadata": {},
   "source": [
    "다양한 상속구조에서 메서드 이름을 찾는 순서는 '__mro__'에 튜플로 정의되어 있다\n",
    "- MRO: Method Resolution Order"
   ]
  },
  {
   "cell_type": "code",
   "execution_count": 19,
   "metadata": {},
   "outputs": [
    {
     "data": {
      "text/plain": [
       "(__main__.Resident, __main__.Student, __main__.Doctor, __main__.Person, object)"
      ]
     },
     "execution_count": 19,
     "metadata": {},
     "output_type": "execute_result"
    }
   ],
   "source": [
    "Resident.__mro__"
   ]
  },
  {
   "cell_type": "code",
   "execution_count": null,
   "metadata": {},
   "outputs": [],
   "source": []
  }
 ],
 "metadata": {
  "kernelspec": {
   "display_name": "Python 3.9.13 64-bit",
   "language": "python",
   "name": "python3"
  },
  "language_info": {
   "codemirror_mode": {
    "name": "ipython",
    "version": 3
   },
   "file_extension": ".py",
   "mimetype": "text/x-python",
   "name": "python",
   "nbconvert_exporter": "python",
   "pygments_lexer": "ipython3",
   "version": "3.9.13"
  },
  "orig_nbformat": 4,
  "vscode": {
   "interpreter": {
    "hash": "b0fa6594d8f4cbf19f97940f81e996739fb7646882a419484c72d19e05852a7e"
   }
  }
 },
 "nbformat": 4,
 "nbformat_minor": 2
}
