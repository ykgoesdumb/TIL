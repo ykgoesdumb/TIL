{
 "cells": [
  {
   "cell_type": "markdown",
   "metadata": {},
   "source": [
    "## 다형성 (polymorphism)\n",
    "- 같은 모양의 코드가 다른 동작을 하는것\n",
    "- 코드의 양을 줄이고, 여러 객체 타입을 하나의 타입으로 관리가 가능하여 유지보수에 좋음\n",
    "- method override 도 다형성의 한 예임\n",
    "\n"
   ]
  },
  {
   "cell_type": "code",
   "execution_count": 5,
   "metadata": {},
   "outputs": [],
   "source": [
    "class Person:\n",
    "    def __init__(self, name):\n",
    "        self.name = name\n",
    "\n",
    "    def work(self):\n",
    "        print(self.name + \" works hard\")\n",
    "\n",
    "class Student(Person):\n",
    "    def work(self):\n",
    "        print(self.name + \" studies hard\")\n",
    "\n",
    "class Engineer(Person):\n",
    "    def work(self):\n",
    "        print(self.name + \" develops soemthing\")\n"
   ]
  },
  {
   "cell_type": "code",
   "execution_count": 6,
   "metadata": {},
   "outputs": [
    {
     "name": "stdout",
     "output_type": "stream",
     "text": [
      "Dave studies hard\n",
      "David develops soemthing\n"
     ]
    }
   ],
   "source": [
    "#객체 생성\n",
    "student1 = Student(\"Dave\")\n",
    "developer1 = Engineer(\"David\")\n",
    "student1.work()\n",
    "developer1.work()"
   ]
  },
  {
   "cell_type": "markdown",
   "metadata": {},
   "source": [
    "메서드명을 동일하게 해서 같은 모양의 코드가 다른 동작을 하도록 하는 다형성 예"
   ]
  },
  {
   "cell_type": "code",
   "execution_count": 8,
   "metadata": {},
   "outputs": [
    {
     "name": "stdout",
     "output_type": "stream",
     "text": [
      "Dave sells something\n",
      "Kyle sells something\n",
      "Chris sells something\n",
      "Hayden develops something\n",
      "Duke develops something\n",
      "Maynar develops something\n"
     ]
    }
   ],
   "source": [
    "class SalesWorker:\n",
    "    def __init__(self, name):\n",
    "        self.name = name\n",
    "    def work(self):\n",
    "        print(self.name, 'sells something')\n",
    "\n",
    "class DevWorker:\n",
    "    def __init__(self, name):\n",
    "        self.name = name\n",
    "\n",
    "    def work(self):\n",
    "        print(self.name, 'develops something')\n",
    "\n",
    "worker1 = SalesWorker('Dave')\n",
    "worker2 = SalesWorker('Kyle')\n",
    "worker3 = SalesWorker('Chris')\n",
    "worker4 = DevWorker('Hayden')\n",
    "worker5 = DevWorker('Duke')\n",
    "worker6 = DevWorker('Maynar')\n",
    "\n",
    "workers = [worker1, worker2, worker3, worker4, worker5, worker6]\n",
    "\n",
    "for worker in workers:\n",
    "    worker.work()"
   ]
  },
  {
   "cell_type": "markdown",
   "metadata": {},
   "source": [
    "#### 연습문제"
   ]
  },
  {
   "cell_type": "code",
   "execution_count": 9,
   "metadata": {},
   "outputs": [],
   "source": [
    "class Elf:\n",
    "    def __init__(self, name):\n",
    "        self.name = name\n",
    "\n",
    "    def attack(self):\n",
    "        print(\"마법으로 공격합니다\")\n",
    "\n",
    "class Fighter:\n",
    "    def __init__(self, name):\n",
    "        self.name = name\n",
    "\n",
    "    def attack(self):\n",
    "        print(\"주먹으로 공격합니다\")"
   ]
  },
  {
   "cell_type": "code",
   "execution_count": 10,
   "metadata": {},
   "outputs": [
    {
     "name": "stdout",
     "output_type": "stream",
     "text": [
      "마법으로 공격합니다\n",
      "주먹으로 공격합니다\n"
     ]
    }
   ],
   "source": [
    "elf1 = Elf('Chris')\n",
    "fighter1 = Fighter('Kyle')\n",
    "\n",
    "ourteam = [elf1,fighter1]\n",
    "\n",
    "for teammate in ourteam:\n",
    "    teammate.attack()"
   ]
  }
 ],
 "metadata": {
  "kernelspec": {
   "display_name": "Python 3.9.13 64-bit",
   "language": "python",
   "name": "python3"
  },
  "language_info": {
   "codemirror_mode": {
    "name": "ipython",
    "version": 3
   },
   "file_extension": ".py",
   "mimetype": "text/x-python",
   "name": "python",
   "nbconvert_exporter": "python",
   "pygments_lexer": "ipython3",
   "version": "3.9.13"
  },
  "orig_nbformat": 4,
  "vscode": {
   "interpreter": {
    "hash": "b0fa6594d8f4cbf19f97940f81e996739fb7646882a419484c72d19e05852a7e"
   }
  }
 },
 "nbformat": 4,
 "nbformat_minor": 2
}
