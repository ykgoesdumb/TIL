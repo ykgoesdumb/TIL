{
 "cells": [
  {
   "cell_type": "markdown",
   "metadata": {},
   "source": [
    "private -> protected -> public\n",
    "\n",
    "파이썬은 java 나 C++ 과 달리, 파이썬에서의 모든 attribute, method는 \n",
    "\n",
    "기본적으로 public"
   ]
  },
  {
   "cell_type": "code",
   "execution_count": 2,
   "metadata": {},
   "outputs": [],
   "source": [
    "class Quadrangle:\n",
    "    def __init__(self, width, height, color):\n",
    "        self.width = width\n",
    "        self.height = height\n",
    "        self.color = color\n",
    "\n",
    "    def get_area(self):\n",
    "        return self.width * self.height\n",
    "\n",
    "    def set_area(self, width, height):\n",
    "        self.width = width\n",
    "        self.height = height\n",
    "\n",
    "        "
   ]
  },
  {
   "cell_type": "markdown",
   "metadata": {},
   "source": []
  },
  {
   "cell_type": "code",
   "execution_count": 5,
   "metadata": {},
   "outputs": [
    {
     "name": "stdout",
     "output_type": "stream",
     "text": [
      "25\n",
      "5\n",
      "50\n"
     ]
    }
   ],
   "source": [
    "square = Quadrangle(5,5, 'black')\n",
    "print(square.get_area())\n",
    "print(square.width)\n",
    "square.width = 10\n",
    "print(square.get_area())"
   ]
  },
  {
   "cell_type": "code",
   "execution_count": 6,
   "metadata": {},
   "outputs": [
    {
     "data": {
      "text/plain": [
       "['__class__',\n",
       " '__delattr__',\n",
       " '__dict__',\n",
       " '__dir__',\n",
       " '__doc__',\n",
       " '__eq__',\n",
       " '__format__',\n",
       " '__ge__',\n",
       " '__getattribute__',\n",
       " '__gt__',\n",
       " '__hash__',\n",
       " '__init__',\n",
       " '__init_subclass__',\n",
       " '__le__',\n",
       " '__lt__',\n",
       " '__module__',\n",
       " '__ne__',\n",
       " '__new__',\n",
       " '__reduce__',\n",
       " '__reduce_ex__',\n",
       " '__repr__',\n",
       " '__setattr__',\n",
       " '__sizeof__',\n",
       " '__str__',\n",
       " '__subclasshook__',\n",
       " '__weakref__',\n",
       " 'color',\n",
       " 'get_area',\n",
       " 'height',\n",
       " 'set_area',\n",
       " 'width']"
      ]
     },
     "execution_count": 6,
     "metadata": {},
     "output_type": "execute_result"
    }
   ],
   "source": [
    "dir(square)"
   ]
  },
  {
   "cell_type": "markdown",
   "metadata": {},
   "source": [
    "attribute, method 앞에 single underbar 인경우 protected\n",
    "\n",
    "double underbar인 경우 private"
   ]
  },
  {
   "cell_type": "code",
   "execution_count": 7,
   "metadata": {},
   "outputs": [],
   "source": [
    "class Square:\n",
    "    def __init__(self, width, height, color):\n",
    "        self.width = width\n",
    "        self.height = height\n",
    "        self.color = color\n",
    "\n",
    "    def _get_area(self):\n",
    "        return self.width * self.height\n",
    "\n",
    "    def __set_area(self, width, height):\n",
    "        self.width = width\n",
    "        self.height = height"
   ]
  },
  {
   "cell_type": "code",
   "execution_count": 8,
   "metadata": {},
   "outputs": [
    {
     "ename": "AttributeError",
     "evalue": "'Square' object has no attribute '__set_area'",
     "output_type": "error",
     "traceback": [
      "\u001b[0;31m---------------------------------------------------------------------------\u001b[0m",
      "\u001b[0;31mAttributeError\u001b[0m                            Traceback (most recent call last)",
      "\u001b[1;32m/Users/kylekim1223/Learn/basic/basic_oop_grammar.ipynb 셀 7\u001b[0m in \u001b[0;36m<cell line: 2>\u001b[0;34m()\u001b[0m\n\u001b[1;32m      <a href='vscode-notebook-cell:/Users/kylekim1223/Learn/basic/basic_oop_grammar.ipynb#ch0000010?line=0'>1</a>\u001b[0m rec \u001b[39m=\u001b[39m Square(\u001b[39m5\u001b[39m,\u001b[39m5\u001b[39m,\u001b[39m'\u001b[39m\u001b[39mgold\u001b[39m\u001b[39m'\u001b[39m)\n\u001b[0;32m----> <a href='vscode-notebook-cell:/Users/kylekim1223/Learn/basic/basic_oop_grammar.ipynb#ch0000010?line=1'>2</a>\u001b[0m \u001b[39mprint\u001b[39m(rec\u001b[39m.\u001b[39;49m__set_area(\u001b[39m10\u001b[39m,\u001b[39m10\u001b[39m))\n",
      "\u001b[0;31mAttributeError\u001b[0m: 'Square' object has no attribute '__set_area'"
     ]
    }
   ],
   "source": [
    "rec = Square(5,5,'gold')\n",
    "print(rec.__set_area(10,10))"
   ]
  },
  {
   "cell_type": "code",
   "execution_count": 10,
   "metadata": {},
   "outputs": [
    {
     "ename": "AttributeError",
     "evalue": "'Square' object has no attribute '__width'",
     "output_type": "error",
     "traceback": [
      "\u001b[0;31m---------------------------------------------------------------------------\u001b[0m",
      "\u001b[0;31mAttributeError\u001b[0m                            Traceback (most recent call last)",
      "\u001b[1;32m/Users/kylekim1223/Learn/basic/basic_oop_grammar.ipynb 셀 8\u001b[0m in \u001b[0;36m<cell line: 1>\u001b[0;34m()\u001b[0m\n\u001b[0;32m----> <a href='vscode-notebook-cell:/Users/kylekim1223/Learn/basic/basic_oop_grammar.ipynb#ch0000011?line=0'>1</a>\u001b[0m \u001b[39mprint\u001b[39m(rec\u001b[39m.\u001b[39;49m__width)\n",
      "\u001b[0;31mAttributeError\u001b[0m: 'Square' object has no attribute '__width'"
     ]
    }
   ],
   "source": [
    "print(rec.__width)"
   ]
  },
  {
   "cell_type": "code",
   "execution_count": 15,
   "metadata": {},
   "outputs": [],
   "source": [
    "class Circle:\n",
    "    def __init__(self, radius, name):\n",
    "        self.__radius = radius\n",
    "        self.__name = name\n",
    "    \n",
    "    def get_name(self):\n",
    "        return self.__name\n",
    "    \n",
    "    def get_area(self):\n",
    "        return 3.14 * self.__radius**2\n",
    "    \n",
    "    def get_circumference(self):\n",
    "        return 2 * 3.14 * self.__radius"
   ]
  },
  {
   "cell_type": "code",
   "execution_count": 16,
   "metadata": {},
   "outputs": [
    {
     "name": "stdout",
     "output_type": "stream",
     "text": [
      "kyle 18.84 28.26\n"
     ]
    }
   ],
   "source": [
    "circle = Circle(3, 'kyle')\n",
    "print(circle.get_name(),circle.get_circumference(), circle.get_area())"
   ]
  },
  {
   "cell_type": "markdown",
   "metadata": {},
   "source": [
    "메서드를 호출하면 나오나 attribute 를 호출하면 없다고 뜸"
   ]
  },
  {
   "cell_type": "code",
   "execution_count": 18,
   "metadata": {},
   "outputs": [
    {
     "ename": "AttributeError",
     "evalue": "'Circle' object has no attribute 'radius'",
     "output_type": "error",
     "traceback": [
      "\u001b[0;31m---------------------------------------------------------------------------\u001b[0m",
      "\u001b[0;31mAttributeError\u001b[0m                            Traceback (most recent call last)",
      "\u001b[1;32m/Users/kylekim1223/Learn/basic/basic_oop_grammar.ipynb 셀 11\u001b[0m in \u001b[0;36m<cell line: 1>\u001b[0;34m()\u001b[0m\n\u001b[0;32m----> <a href='vscode-notebook-cell:/Users/kylekim1223/Learn/basic/basic_oop_grammar.ipynb#ch0000014?line=0'>1</a>\u001b[0m \u001b[39mprint\u001b[39m(circle\u001b[39m.\u001b[39;49mradius)\n\u001b[1;32m      <a href='vscode-notebook-cell:/Users/kylekim1223/Learn/basic/basic_oop_grammar.ipynb#ch0000014?line=1'>2</a>\u001b[0m \u001b[39mprint\u001b[39m(circle\u001b[39m.\u001b[39mget_name())\n",
      "\u001b[0;31mAttributeError\u001b[0m: 'Circle' object has no attribute 'radius'"
     ]
    }
   ],
   "source": [
    "print(circle.radius)\n"
   ]
  },
  {
   "cell_type": "code",
   "execution_count": 19,
   "metadata": {},
   "outputs": [
    {
     "name": "stdout",
     "output_type": "stream",
     "text": [
      "kyle\n"
     ]
    }
   ],
   "source": [
    "print(circle.get_name())"
   ]
  },
  {
   "cell_type": "code",
   "execution_count": null,
   "metadata": {},
   "outputs": [],
   "source": [
    "class account_management:\n",
    "    def __init__(self,0):\n",
    "        self.__budget = budget"
   ]
  },
  {
   "cell_type": "code",
   "execution_count": 23,
   "metadata": {},
   "outputs": [
    {
     "ename": "AttributeError",
     "evalue": "'grade_management' object has no attribute '__avg'",
     "output_type": "error",
     "traceback": [
      "\u001b[0;31m---------------------------------------------------------------------------\u001b[0m",
      "\u001b[0;31mAttributeError\u001b[0m                            Traceback (most recent call last)",
      "\u001b[1;32m/Users/kylekim1223/Learn/basic/basic_oop_grammar.ipynb 셀 15\u001b[0m in \u001b[0;36m<cell line: 14>\u001b[0;34m()\u001b[0m\n\u001b[1;32m     <a href='vscode-notebook-cell:/Users/kylekim1223/Learn/basic/basic_oop_grammar.ipynb#ch0000018?line=10'>11</a>\u001b[0m         \u001b[39mreturn\u001b[39;00m (\u001b[39mself\u001b[39m\u001b[39m.\u001b[39m__kor \u001b[39m+\u001b[39m \u001b[39mself\u001b[39m\u001b[39m.\u001b[39m__eng \u001b[39m+\u001b[39m \u001b[39mself\u001b[39m\u001b[39m.\u001b[39m__math)\n\u001b[1;32m     <a href='vscode-notebook-cell:/Users/kylekim1223/Learn/basic/basic_oop_grammar.ipynb#ch0000018?line=12'>13</a>\u001b[0m kyle \u001b[39m=\u001b[39m grade_management(\u001b[39m98\u001b[39m, \u001b[39m89\u001b[39m, \u001b[39m96\u001b[39m, \u001b[39m'\u001b[39m\u001b[39mkyle\u001b[39m\u001b[39m'\u001b[39m)\n\u001b[0;32m---> <a href='vscode-notebook-cell:/Users/kylekim1223/Learn/basic/basic_oop_grammar.ipynb#ch0000018?line=13'>14</a>\u001b[0m \u001b[39mtype\u001b[39m(kyle\u001b[39m.\u001b[39;49m__avg())\n",
      "\u001b[0;31mAttributeError\u001b[0m: 'grade_management' object has no attribute '__avg'"
     ]
    }
   ],
   "source": [
    "class grade_management:\n",
    "    def __init__(self, kor, eng, math, name):\n",
    "        self.__kor = kor\n",
    "        self.__eng = eng\n",
    "        self.__math = math\n",
    "\n",
    "    def __avg(self):\n",
    "        return (self.__kor + self.__eng + self.__math) / 3\n",
    "\n",
    "    def __total(self):\n",
    "        return (self.__kor + self.__eng + self.__math)\n",
    "    \n",
    "kyle = grade_management(98, 89, 96, 'kyle')\n",
    "print(kyle.__avg(), kyle.__total())\n",
    "\n"
   ]
  },
  {
   "cell_type": "code",
   "execution_count": null,
   "metadata": {},
   "outputs": [],
   "source": []
  },
  {
   "cell_type": "code",
   "execution_count": null,
   "metadata": {},
   "outputs": [],
   "source": []
  }
 ],
 "metadata": {
  "kernelspec": {
   "display_name": "Python 3.9.13 64-bit",
   "language": "python",
   "name": "python3"
  },
  "language_info": {
   "codemirror_mode": {
    "name": "ipython",
    "version": 3
   },
   "file_extension": ".py",
   "mimetype": "text/x-python",
   "name": "python",
   "nbconvert_exporter": "python",
   "pygments_lexer": "ipython3",
   "version": "3.9.13"
  },
  "orig_nbformat": 4,
  "vscode": {
   "interpreter": {
    "hash": "b0fa6594d8f4cbf19f97940f81e996739fb7646882a419484c72d19e05852a7e"
   }
  }
 },
 "nbformat": 4,
 "nbformat_minor": 2
}
