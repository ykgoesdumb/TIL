{
 "cells": [
  {
   "cell_type": "markdown",
   "metadata": {},
   "source": [
    "## 객체지향 (상속)"
   ]
  },
  {
   "cell_type": "markdown",
   "metadata": {},
   "source": [
    "추상화(abstraction): 여러 클래스에 중복되는 속성, 메서드를 하나의 기본 \n",
    "\n",
    "클래스로 작성하는 작업\n",
    "\n",
    "상속(inheritance): 기본 클래스의 공통 기능을 물려받고, 다른 부분만 추가 또는 \n",
    "\n",
    "변경하는 것\n"
   ]
  },
  {
   "cell_type": "markdown",
   "metadata": {},
   "source": [
    "- 상속관계에서의 기본클래스는 Parent, Super,  Base class 라고 부름\n",
    "- 자식 클래스(하위 클래스)는 Child, Sub, Derived class 라고 부름\n",
    "- 상속은 코드를 재사용이 가능하게 만든다\n",
    "- 부모 클래스가 둘 이상인 경우 다중 상속"
   ]
  },
  {
   "cell_type": "code",
   "execution_count": 1,
   "metadata": {},
   "outputs": [],
   "source": [
    "class Figure:\n",
    "    def __init__(self, name, color):\n",
    "        self.name = name\n",
    "        self.color = color\n",
    "\n",
    "class Quadrangle(Figure):\n",
    "    def set_area(self, width, height):\n",
    "        self.__width = width\n",
    "        self.__height = height\n",
    "\n",
    "    def get_info(self):\n",
    "        print(self.name , self.color, self.__width * self.__height)"
   ]
  },
  {
   "cell_type": "code",
   "execution_count": null,
   "metadata": {},
   "outputs": [],
   "source": []
  },
  {
   "cell_type": "code",
   "execution_count": 2,
   "metadata": {},
   "outputs": [
    {
     "name": "stdout",
     "output_type": "stream",
     "text": [
      "kyle dark green 25\n"
     ]
    }
   ],
   "source": [
    "rec = Quadrangle('kyle','dark green')\n",
    "rec.set_area(5,5)\n",
    "rec.get_info()"
   ]
  },
  {
   "cell_type": "markdown",
   "metadata": {},
   "source": [
    "### 상속 관계인 클래스 확인, 클래스와 객체간의 관계 확인\n",
    "\n",
    "- issubclass\n",
    "- isinstance"
   ]
  },
  {
   "cell_type": "code",
   "execution_count": 3,
   "metadata": {},
   "outputs": [
    {
     "data": {
      "text/plain": [
       "True"
      ]
     },
     "execution_count": 3,
     "metadata": {},
     "output_type": "execute_result"
    }
   ],
   "source": [
    "issubclass(Quadrangle,Figure)"
   ]
  },
  {
   "cell_type": "code",
   "execution_count": 4,
   "metadata": {},
   "outputs": [],
   "source": [
    "figure1 = Figure('figure', 'black')\n",
    "square = Quadrangle('square', 'red')"
   ]
  },
  {
   "cell_type": "code",
   "execution_count": 5,
   "metadata": {},
   "outputs": [
    {
     "name": "stdout",
     "output_type": "stream",
     "text": [
      "True\n",
      "True\n",
      "False\n",
      "True\n"
     ]
    }
   ],
   "source": [
    "print(isinstance(figure1, Figure))\n",
    "print(isinstance(square, Figure))\n",
    "print(isinstance(figure1, Quadrangle))\n",
    "print(isinstance(square, Quadrangle))"
   ]
  },
  {
   "cell_type": "code",
   "execution_count": 6,
   "metadata": {},
   "outputs": [
    {
     "name": "stdout",
     "output_type": "stream",
     "text": [
      "square red 25\n"
     ]
    }
   ],
   "source": [
    "square.set_area(5,5)\n",
    "square.get_info()\n"
   ]
  },
  {
   "cell_type": "markdown",
   "metadata": {},
   "source": [
    "### 또다른 클래스 예시"
   ]
  },
  {
   "cell_type": "code",
   "execution_count": 7,
   "metadata": {},
   "outputs": [],
   "source": [
    "class Person:\n",
    "    def __init__(self,name):\n",
    "        self.name = name\n",
    "class Student(Person):\n",
    "    def study(self):\n",
    "        print (self.name + \" studies hard\")\n",
    "\n",
    "class Employee(Person):\n",
    "    def work(self):\n",
    "        print(self.name + \" works hard\")"
   ]
  },
  {
   "cell_type": "code",
   "execution_count": 8,
   "metadata": {},
   "outputs": [
    {
     "name": "stdout",
     "output_type": "stream",
     "text": [
      "Kyle studies hard\n"
     ]
    }
   ],
   "source": [
    "kyle = Student('Kyle')\n",
    "kyle.study()"
   ]
  },
  {
   "cell_type": "code",
   "execution_count": 9,
   "metadata": {},
   "outputs": [
    {
     "name": "stdout",
     "output_type": "stream",
     "text": [
      "Kyle works hard\n"
     ]
    }
   ],
   "source": [
    "kyle_grownup = Employee('Kyle')\n",
    "kyle_grownup.work()"
   ]
  },
  {
   "cell_type": "markdown",
   "metadata": {},
   "source": [
    "## 메서드 재정의 (method override)\n",
    "\n",
    "- 오버라이드 라는 말을 많이 들은 것 같다 '재정의' 라는 뜻이다.\n",
    "- 부모 클래스의 method 를 자시그 클래스에서 재정의\n",
    "- 부모 클래스의 메서드와 이름만 동일하면 메서드 재정의 가능함(python)\n",
    "- java 나 c++ 에서는 메서드와 인자도 동일해야함"
   ]
  },
  {
   "cell_type": "code",
   "execution_count": 10,
   "metadata": {},
   "outputs": [],
   "source": [
    "class Person:\n",
    "    def work(self):\n",
    "        print('work hard')\n",
    "class Student(Person):\n",
    "    # 오버라이드가 일어난 부분\n",
    "    def work(self):\n",
    "        print('study hard')\n",
    "    def go_to_school(self):\n",
    "        print('Go to school')"
   ]
  },
  {
   "cell_type": "code",
   "execution_count": 11,
   "metadata": {},
   "outputs": [
    {
     "name": "stdout",
     "output_type": "stream",
     "text": [
      "work hard\n",
      "study hard\n",
      "Go to school\n"
     ]
    }
   ],
   "source": [
    "p1 = Person()\n",
    "s1 = Student()\n",
    "\n",
    "p1.work()\n",
    "s1.work()\n",
    "s1.go_to_school()"
   ]
  },
  {
   "cell_type": "markdown",
   "metadata": {},
   "source": [
    "## 연습"
   ]
  },
  {
   "cell_type": "code",
   "execution_count": 12,
   "metadata": {},
   "outputs": [
    {
     "name": "stdout",
     "output_type": "stream",
     "text": [
      "car\n",
      "e_car  Electronic\n",
      "g_car  Gasoline\n"
     ]
    }
   ],
   "source": [
    "class Car:\n",
    "    def __init__(self, name):\n",
    "        self.name = name\n",
    "\n",
    "    def info(self):\n",
    "        print(self.name)\n",
    "\n",
    "class Electronic_Car(Car):\n",
    "    def info(self):\n",
    "        print(self.name, ' Electronic')\n",
    "\n",
    "class Gasoline_Car(Car):\n",
    "    def info(self):\n",
    "        print(self.name, \" Gasoline\")\n",
    "\n",
    "\n",
    "car1 = Car('car')\n",
    "car2 = Electronic_Car('e_car')\n",
    "car3 = Gasoline_Car('g_car')\n",
    "\n",
    "car1.info()\n",
    "car2.info()\n",
    "car3.info()"
   ]
  },
  {
   "cell_type": "markdown",
   "metadata": {},
   "source": [
    "### 자식 클래스에서 부모 클래스 메서드 호출 (super & self)\n",
    "- super()\n",
    "- self."
   ]
  },
  {
   "cell_type": "code",
   "execution_count": 13,
   "metadata": {},
   "outputs": [],
   "source": [
    "class Person:\n",
    "    def work(self):\n",
    "        print('work hard')\n",
    "\n",
    "class Student(Person):\n",
    "    def work(self):\n",
    "        print('study hard')\n",
    "    \n",
    "    def parttime(self):\n",
    "        super().work()\n",
    "    \n",
    "    def general(self):\n",
    "        self.work()\n"
   ]
  },
  {
   "cell_type": "code",
   "execution_count": 14,
   "metadata": {},
   "outputs": [
    {
     "name": "stdout",
     "output_type": "stream",
     "text": [
      "work hard\n",
      "study hard\n"
     ]
    }
   ],
   "source": [
    "s1 = Student()\n",
    "s1.parttime()\n",
    "s1.general()"
   ]
  },
  {
   "cell_type": "markdown",
   "metadata": {},
   "source": [
    "### 자식 클래스에서 부모 클래스 메서드 확장"
   ]
  },
  {
   "cell_type": "code",
   "execution_count": 15,
   "metadata": {},
   "outputs": [],
   "source": [
    "class Person:\n",
    "    def work(self):\n",
    "        print('work hard')\n",
    "class Student:\n",
    "    def work(self):\n",
    "        Person.work(self)\n",
    "        print('Study hard')"
   ]
  },
  {
   "cell_type": "code",
   "execution_count": 16,
   "metadata": {},
   "outputs": [
    {
     "name": "stdout",
     "output_type": "stream",
     "text": [
      "work hard\n",
      "Study hard\n"
     ]
    }
   ],
   "source": [
    "s1 = Student()\n",
    "s1.work()"
   ]
  },
  {
   "cell_type": "code",
   "execution_count": 17,
   "metadata": {},
   "outputs": [],
   "source": [
    "class Figure:\n",
    "    def __init__(self, width,height):\n",
    "        self.width = width\n",
    "        self.height = height\n",
    "    def print_info(self):\n",
    "        print(f'사이즈 {self.width} {self.height}')\n",
    "\n",
    "class Rectangle(Figure):\n",
    "    def print_info(self):\n",
    "        Figure.print_info(self)\n",
    "        print(f'너비 {self.width * self.height}')\n",
    "\n",
    "    "
   ]
  },
  {
   "cell_type": "code",
   "execution_count": 19,
   "metadata": {},
   "outputs": [
    {
     "name": "stdout",
     "output_type": "stream",
     "text": [
      "사이즈 2 3\n",
      "너비 6\n"
     ]
    }
   ],
   "source": [
    "rectangle = Rectangle(2, 3)\n",
    "rectangle.print_info()"
   ]
  },
  {
   "cell_type": "markdown",
   "metadata": {},
   "source": [
    "## 추상 클래스 "
   ]
  },
  {
   "cell_type": "markdown",
   "metadata": {},
   "source": [
    "- 메서드 목록만 가진 클래스, 상속받는 클래스에서 해당 메서드 구현해야 함\n",
    "- 예: 게임에서 모든 캐릭터는 공격하기, 이동하기 공통 기능을 가지고 있음\n",
    "    - 공통 기능을 추상 클래스로 만들고, 각 세부 기능은 해당 메서드에서 구현하는 것\n"
   ]
  },
  {
   "cell_type": "markdown",
   "metadata": {},
   "source": [
    "- from abc import *\n",
    "- metaclass=ABCMeta\n",
    "- @abstractmethod"
   ]
  },
  {
   "cell_type": "code",
   "execution_count": 37,
   "metadata": {},
   "outputs": [],
   "source": [
    "from abc import *\n",
    "\n",
    "class Character(metaclass=ABCMeta):\n",
    "    @abstractmethod\n",
    "    def attack(self):\n",
    "        pass\n",
    "    \n",
    "    @abstractmethod\n",
    "    def move(self):\n",
    "        pass"
   ]
  },
  {
   "cell_type": "code",
   "execution_count": 40,
   "metadata": {},
   "outputs": [],
   "source": [
    "class Elf(Character):\n",
    "    def attack(self):\n",
    "        print('agile arrow')\n",
    "    \n",
    "    def move(self):\n",
    "        print('fly')\n",
    "\n",
    "class Human(Character):\n",
    "    def attack(self):\n",
    "        print('brave sword')\n",
    "\n",
    "    def move(self):\n",
    "        print('run')\n",
    "        "
   ]
  },
  {
   "cell_type": "code",
   "execution_count": 41,
   "metadata": {},
   "outputs": [
    {
     "name": "stdout",
     "output_type": "stream",
     "text": [
      "fly\n",
      "agile arrow\n",
      "run\n",
      "brave sword\n"
     ]
    }
   ],
   "source": [
    "elf1 = Elf()\n",
    "human1 = Human()\n",
    "\n",
    "elf1.move()\n",
    "elf1.attack()\n",
    "\n",
    "human1.move()\n",
    "human1.attack()"
   ]
  },
  {
   "cell_type": "markdown",
   "metadata": {},
   "source": [
    "### 추상 클래스는 메서드로 만들 수 없다"
   ]
  },
  {
   "cell_type": "code",
   "execution_count": 44,
   "metadata": {},
   "outputs": [],
   "source": [
    "from abc import *\n",
    "\n",
    "class Character(metaclass=ABCMeta):\n",
    "    def __init__(self, hp):\n",
    "        self.hp = hp\n",
    "    \n",
    "    def get_hp(self):\n",
    "        return self.hp\n",
    "\n",
    "    @abstractmethod\n",
    "    def attack(self):\n",
    "        pass\n",
    "\n",
    "    @abstractmethod\n",
    "    def move(self):\n",
    "        pass"
   ]
  },
  {
   "cell_type": "code",
   "execution_count": 46,
   "metadata": {},
   "outputs": [
    {
     "ename": "TypeError",
     "evalue": "Can't instantiate abstract class Character with abstract methods attack, move",
     "output_type": "error",
     "traceback": [
      "\u001b[0;31m---------------------------------------------------------------------------\u001b[0m",
      "\u001b[0;31mTypeError\u001b[0m                                 Traceback (most recent call last)",
      "\u001b[1;32m/Users/kylekim1223/Learn/python_oop_train/oop_prac4_inheritance.ipynb 셀 37\u001b[0m in \u001b[0;36m<cell line: 1>\u001b[0;34m()\u001b[0m\n\u001b[0;32m----> <a href='vscode-notebook-cell:/Users/kylekim1223/Learn/python_oop_train/oop_prac4_inheritance.ipynb#ch0000039?line=0'>1</a>\u001b[0m character \u001b[39m=\u001b[39m Character(\u001b[39m10\u001b[39;49m)\n",
      "\u001b[0;31mTypeError\u001b[0m: Can't instantiate abstract class Character with abstract methods attack, move"
     ]
    }
   ],
   "source": [
    "character = Character(10)"
   ]
  },
  {
   "cell_type": "code",
   "execution_count": 47,
   "metadata": {},
   "outputs": [],
   "source": [
    "class Elf(Character):\n",
    "    def attack(self):\n",
    "        print('practice the black art')\n",
    "\n",
    "    def move(self):\n",
    "        print ('fly')"
   ]
  },
  {
   "cell_type": "code",
   "execution_count": 48,
   "metadata": {},
   "outputs": [],
   "source": [
    "character = Elf(10)"
   ]
  },
  {
   "cell_type": "code",
   "execution_count": 49,
   "metadata": {},
   "outputs": [
    {
     "name": "stdout",
     "output_type": "stream",
     "text": [
      "practice the black art\n",
      "fly\n"
     ]
    }
   ],
   "source": [
    "character.attack()\n",
    "character.move()"
   ]
  },
  {
   "cell_type": "code",
   "execution_count": 51,
   "metadata": {},
   "outputs": [
    {
     "name": "stdout",
     "output_type": "stream",
     "text": [
      "10\n"
     ]
    }
   ],
   "source": [
    "print(character.get_hp())"
   ]
  },
  {
   "cell_type": "markdown",
   "metadata": {},
   "source": [
    "## 연습"
   ]
  },
  {
   "cell_type": "code",
   "execution_count": 66,
   "metadata": {},
   "outputs": [],
   "source": [
    "from abc import *\n",
    "\n",
    "class Car(metaclass =ABCMeta):\n",
    "    def __init__(self, name):\n",
    "        self.name = name\n",
    "    def info(self):\n",
    "        return(self.name)\n",
    "    \n",
    "    @abstractclassmethod\n",
    "    def fuel(self):\n",
    "        pass\n",
    "\n",
    "class Electronic_Cars(Car):\n",
    "\n",
    "    def fuel(self):\n",
    "        return('Fuel: Electronic')"
   ]
  },
  {
   "cell_type": "code",
   "execution_count": 67,
   "metadata": {},
   "outputs": [],
   "source": [
    "elon_musk = Electronic_Cars('Elon')"
   ]
  },
  {
   "cell_type": "code",
   "execution_count": 70,
   "metadata": {},
   "outputs": [
    {
     "name": "stdout",
     "output_type": "stream",
     "text": [
      "Elon Fuel: Electronic\n"
     ]
    }
   ],
   "source": [
    "print(elon_musk.info(),elon_musk.fuel())\n"
   ]
  },
  {
   "cell_type": "code",
   "execution_count": null,
   "metadata": {},
   "outputs": [],
   "source": []
  }
 ],
 "metadata": {
  "kernelspec": {
   "display_name": "Python 3.9.13 64-bit",
   "language": "python",
   "name": "python3"
  },
  "language_info": {
   "codemirror_mode": {
    "name": "ipython",
    "version": 3
   },
   "file_extension": ".py",
   "mimetype": "text/x-python",
   "name": "python",
   "nbconvert_exporter": "python",
   "pygments_lexer": "ipython3",
   "version": "3.9.13"
  },
  "orig_nbformat": 4,
  "vscode": {
   "interpreter": {
    "hash": "b0fa6594d8f4cbf19f97940f81e996739fb7646882a419484c72d19e05852a7e"
   }
  }
 },
 "nbformat": 4,
 "nbformat_minor": 2
}
