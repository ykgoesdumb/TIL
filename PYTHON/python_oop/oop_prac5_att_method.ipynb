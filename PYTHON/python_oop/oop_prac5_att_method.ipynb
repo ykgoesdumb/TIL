{
 "cells": [
  {
   "cell_type": "markdown",
   "metadata": {},
   "source": [
    "### 클래스 변수 & 인스턴스 변수"
   ]
  },
  {
   "cell_type": "markdown",
   "metadata": {},
   "source": [
    "클래스 변수: 클래스 정의에서 메서드 밖에 존재하는 변수\n",
    "- 해당 클래스를 사용하는 모두에게 공용으로 사용되는 변수\n",
    "- 클래스 변수는 클래스 내외부에서 '클래스명.변수명' 으로 액세스 가능\n",
    "\n",
    "인스턴스 변수: 클래스 정의에서 메서드 안에서 사용되면서 'self.변수명' 처럼 사용되는 변수\n",
    "- 각 객체별로 서로 다른 값을 가짐\n",
    "- 클래스 내부에서는 self.인스턴스 변수명을 사용하여 액세스, 클래스 밖에서는 객체명.인스턴스변수명으로 액세스"
   ]
  },
  {
   "cell_type": "code",
   "execution_count": 2,
   "metadata": {},
   "outputs": [],
   "source": [
    "class Figure:\n",
    "    count = 0 # 클래스 변수\n",
    "\n",
    "    def __init__(self, width, height):\n",
    "        self.width = width\n",
    "        self.height = height\n",
    "        # 클래스 변수 접근 예\n",
    "        Figure.count += 1\n",
    "\n",
    "    def __del__(self):\n",
    "        Figure.count -= 1\n",
    "\n",
    "    #메서드\n",
    "    def calc_area(self):\n",
    "        return self.width * self.height\n",
    "        \n"
   ]
  },
  {
   "cell_type": "code",
   "execution_count": 5,
   "metadata": {},
   "outputs": [
    {
     "name": "stdout",
     "output_type": "stream",
     "text": [
      "1\n",
      "1\n",
      "2\n",
      "4\n",
      "1\n",
      "0\n"
     ]
    }
   ],
   "source": [
    "print(Figure.count)\n",
    "figure1 = Figure(2,3)\n",
    "print(Figure.count)\n",
    "figure2 = Figure(4,5)\n",
    "print(figure1.width)\n",
    "print(figure2.width)\n",
    "\n",
    "del figure1\n",
    "print(Figure.count)\n",
    "del figure2\n",
    "print(Figure.count)"
   ]
  },
  {
   "cell_type": "markdown",
   "metadata": {},
   "source": [
    "### 정적 메서드(static method)\n",
    "\n",
    "- self 파라미터를 갖고있지 않음\n",
    "- 객체 속성에 접근 불가\n",
    "- @staticmethod 라는 Decorator를 넣어야함\n",
    "- 클래스명.정적메서드명 또는 객체명.정적메서드명 둘 다 호출 가능\n"
   ]
  },
  {
   "cell_type": "code",
   "execution_count": 6,
   "metadata": {},
   "outputs": [],
   "source": [
    "class Figure:\n",
    "    # 생성자(initializer)\n",
    "    def __init__(self, width, height):\n",
    "        self.width = width\n",
    "        self.height = height\n",
    "\n",
    "    # 메서드\n",
    "    def calc_area(self):\n",
    "        return self.width * self.height\n",
    "    \n",
    "    # 정적 메서드 (Figure 에 너비와 높이가 같은 도형은 정사각형임을 알려주는 기능)\n",
    "    @staticmethod\n",
    "    def is_square(rect_width, rect_height):\n",
    "        if rect_width == rect_height:\n",
    "            print(\"정사각형이 될 수 있는 너비/높이입니다.\")\n",
    "        else:\n",
    "            print(\"정사각형이 될 수 없는 너비/높이입니다.\")\n",
    "\n",
    "\n",
    "    "
   ]
  },
  {
   "cell_type": "code",
   "execution_count": 8,
   "metadata": {},
   "outputs": [
    {
     "name": "stdout",
     "output_type": "stream",
     "text": [
      "정사각형이 될 수 있는 너비/높이입니다.\n",
      "정사각형이 될 수 없는 너비/높이입니다.\n"
     ]
    }
   ],
   "source": [
    "figure1 = Figure(2, 3)\n",
    "figure1.is_square(5, 5)   # 객체명.정적메서드명으로 호출 가능\n",
    "Figure.is_square(4, 5)   # 클래스명.정적메서드명으로 호출 가능"
   ]
  },
  {
   "cell_type": "markdown",
   "metadata": {},
   "source": [
    "정적 메서드 호출"
   ]
  },
  {
   "cell_type": "code",
   "execution_count": null,
   "metadata": {},
   "outputs": [],
   "source": [
    "class Figure:\n",
    "    count = 0 # 클래스 변수\n",
    "    \n",
    "    # 생성자(initializer)\n",
    "    def __init__(self, width, height):\n",
    "        self.width = width\n",
    "        self.height = height\n",
    "\n",
    "    \n",
    "    # 정적 메서드 (정적 메서드에서는 클래스 attribute 는 접근 가능)\n",
    "    @staticmethod\n",
    "    def print_count():\n",
    "        print(Figure.count)\n",
    "\n",
    "    # 정적 메서드 (에러: 정적 메서드에서는 객체 attribute 는 접근 불가)\n",
    "    # self 안됨!    \n",
    "    @staticmethod\n",
    "    def print_widht():\n",
    "        print(self.width)\n",
    "\n"
   ]
  },
  {
   "cell_type": "markdown",
   "metadata": {},
   "source": [
    "### class 메서드\n",
    "- self 파라미터 대신, cls 파라미터 가짐\n",
    "- 클래스 변수 접근 가능하며, cls.클래스변수명 으로 엑세스 가능\n",
    "- @classmethod\n",
    "- 클래스명.클래스메서드명 , 객체명.클래스메서드명 둘다 호출 가능"
   ]
  },
  {
   "cell_type": "code",
   "execution_count": 11,
   "metadata": {},
   "outputs": [],
   "source": [
    "class Figure:\n",
    "    count = 0 # 클래스 변수\n",
    "\n",
    "    def __init__ (self, width, height):\n",
    "        self.width = width\n",
    "        self.height = height\n",
    "        Figure.count += 1 \n",
    "    \n",
    "    def __del__(self):\n",
    "        Figure.count -= 1\n",
    "\n",
    "    def calc_area(self):\n",
    "        return self.width * self.height"
   ]
  },
  {
   "cell_type": "code",
   "execution_count": 12,
   "metadata": {},
   "outputs": [
    {
     "data": {
      "text/plain": [
       "2"
      ]
     },
     "execution_count": 12,
     "metadata": {},
     "output_type": "execute_result"
    }
   ],
   "source": [
    "figure1 = Figure(2, 3)\n",
    "Figure.count\n",
    "figure2 = Figure(2, 3)\n",
    "Figure.count"
   ]
  },
  {
   "cell_type": "code",
   "execution_count": 13,
   "metadata": {},
   "outputs": [
    {
     "name": "stdout",
     "output_type": "stream",
     "text": [
      "2\n",
      "2\n",
      "2\n",
      "2\n",
      "4\n",
      "1\n",
      "0\n"
     ]
    }
   ],
   "source": [
    "print(Figure.count)\n",
    "figure1 = Figure(2,3)\n",
    "print(Figure.count)\n",
    "figure2 = Figure(4,5)\n",
    "print(Figure.count)\n",
    "print(figure1.width)\n",
    "print(figure2.width)\n",
    "del figure1\n",
    "print(Figure.count)\n",
    "del figure2\n",
    "print(Figure.count)"
   ]
  },
  {
   "cell_type": "markdown",
   "metadata": {},
   "source": [
    "instance method, static method, class method\n",
    "\n",
    "instance method\n",
    "- 해당 메서드를 호출한 객체에만 영향을 미침\n",
    "- 객체 속성에 접근 가능\n",
    "\n",
    "static method\n",
    "- 객체와 독립적이지만, 로직상 클래스내에 포함되는 메서드\n",
    "- self 파라미터 갖고 있지 않음\n",
    "- 객체 속성에 접근 불가\n",
    "- 정적 메서드는 메서드 앞에 @staticmethod 를 붙여줘야함\n",
    "- 클래스명.정적메서드명 또는 객체명.정적메서드명 둘 다 호출 가능\n",
    "\n",
    "\n"
   ]
  },
  {
   "cell_type": "code",
   "execution_count": 3,
   "metadata": {},
   "outputs": [
    {
     "name": "stdout",
     "output_type": "stream",
     "text": [
      "1\n",
      "2\n",
      "44\n",
      "3\n"
     ]
    }
   ],
   "source": [
    "class A(object):\n",
    "    count = 0 # static member (class variable)\n",
    "\n",
    "    def __init__(self, cnt):\n",
    "        A.count += 1\n",
    "        self.cnt = cnt\n",
    "\n",
    "    def print_cnt(self):\n",
    "        print(self.cnt)\n",
    "\n",
    "    @classmethod\n",
    "    def print_count(cls):\n",
    "        print(cls.count)\n",
    "\n",
    "a1 = A(1)\n",
    "a2 = A(2)\n",
    "a3 = A(44)\n",
    "\n",
    "a1.print_cnt()\n",
    "a2.print_cnt()\n",
    "a3.print_cnt()\n",
    "\n",
    "A.print_count()"
   ]
  }
 ],
 "metadata": {
  "kernelspec": {
   "display_name": "Python 3.9.13 64-bit",
   "language": "python",
   "name": "python3"
  },
  "language_info": {
   "codemirror_mode": {
    "name": "ipython",
    "version": 3
   },
   "file_extension": ".py",
   "mimetype": "text/x-python",
   "name": "python",
   "nbconvert_exporter": "python",
   "pygments_lexer": "ipython3",
   "version": "3.9.13"
  },
  "orig_nbformat": 4,
  "vscode": {
   "interpreter": {
    "hash": "b0fa6594d8f4cbf19f97940f81e996739fb7646882a419484c72d19e05852a7e"
   }
  }
 },
 "nbformat": 4,
 "nbformat_minor": 2
}
