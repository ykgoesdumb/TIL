{
 "cells": [
  {
   "cell_type": "markdown",
   "metadata": {},
   "source": [
    "## 포함(composition)\n",
    "\n"
   ]
  },
  {
   "cell_type": "markdown",
   "metadata": {},
   "source": [
    "Composition\n",
    "- 다른 클래스의 일부 기능을 그대로 이용하고 싶으나, 전체 기능 상속은 피하고 싶을 때 사용\n",
    "- Composition 또는 Aggregation 이라고도 한다.\n",
    "- 상속관계가 복잡할 경우, 코드 이해가 어려운 경우가 많음\n",
    "- 컴포지션은 명시적 선언, 상속은 암시적 선언\n",
    "- 다만, 컴포지션, 상속에 대한 개념 이해는 역시나 한번에 이해하고, 활용하기는 어려움\n",
    "\n",
    "\n",
    "\n",
    "\n"
   ]
  },
  {
   "cell_type": "markdown",
   "metadata": {},
   "source": [
    "아래의 코드에서 calc 클래스에서 calc2 의 multiply() 메서드를 활용하고 싶지만, calc2 전체를 상속받고 싶지는 않음"
   ]
  },
  {
   "cell_type": "code",
   "execution_count": 4,
   "metadata": {},
   "outputs": [],
   "source": [
    "class Calc:\n",
    "    def __init__(self,x ,y):\n",
    "        self.x = x\n",
    "        self.y = y\n",
    "\n",
    "    def add(self):\n",
    "        return self.x + self.y\n",
    "    \n",
    "    def subtract(self):\n",
    "        return self.x - self.y\n",
    "class Calc2:\n",
    "    def __init__(self, x, y):\n",
    "        self.x = x\n",
    "        self.y = y\n",
    "\n",
    "    def add(self):\n",
    "        return self.x + self.y\n",
    "    \n",
    "    def multiply(self):\n",
    "        return self.x * self.y\n",
    "\n"
   ]
  },
  {
   "cell_type": "markdown",
   "metadata": {},
   "source": [
    "이런식으로 바꿀 수 있다."
   ]
  },
  {
   "cell_type": "code",
   "execution_count": 5,
   "metadata": {},
   "outputs": [],
   "source": [
    "class Calc:\n",
    "    def __init__(self, x, y):\n",
    "        self.x = x\n",
    "        self.y = y\n",
    "        # 해당 클래스의 객체를 명시적으로 가져옴\n",
    "        self.calc2 = Calc2(x,y)\n",
    "\n",
    "    def add(self):\n",
    "        return self.x + self.y\n",
    "    \n",
    "    def subtract(self):\n",
    "        return self.x - self.y\n",
    "\n",
    "    def multiply(self):\n",
    "        # 해당 클래스의 객체에 있는 메서드를 명시적으로 활용함\n",
    "        return self.calc2.multiply()"
   ]
  },
  {
   "cell_type": "markdown",
   "metadata": {},
   "source": [
    "검증해보자"
   ]
  },
  {
   "cell_type": "code",
   "execution_count": 6,
   "metadata": {},
   "outputs": [
    {
     "name": "stdout",
     "output_type": "stream",
     "text": [
      "3\n",
      "-1\n",
      "2\n"
     ]
    }
   ],
   "source": [
    "calc1 = Calc(1,2)\n",
    "print(calc1.add())\n",
    "print(calc1.subtract())\n",
    "print(calc1.calc2.multiply())"
   ]
  },
  {
   "cell_type": "markdown",
   "metadata": {},
   "source": [
    "클래스 설계해보기"
   ]
  },
  {
   "cell_type": "code",
   "execution_count": 174,
   "metadata": {},
   "outputs": [],
   "source": [
    "from abc import *\n",
    "\n",
    "class Character(metaclass=ABCMeta):\n",
    "    def __init__(self, name='yourname', health_point=100, striking_power=3, defensive_power=3):\n",
    "        self.name = name\n",
    "        self.health_point = health_point\n",
    "        self.striking_power = striking_power\n",
    "        self.defensive_power = defensive_power\n",
    "    \n",
    "    def get_info(self):\n",
    "        print(self.name, self.health_point, self.striking_power, self.defensive_power)\n",
    "\n",
    "    @abstractmethod\n",
    "    def attack(self):\n",
    "        pass\n",
    "    \n",
    "    @abstractmethod\n",
    "    def receive(self):\n",
    "        pass\n",
    "\n",
    "\n",
    "class Warrior(Character):\n",
    "    def __init__(self, name='yourname', health_point=100, striking_power=20, defensive_power=1):\n",
    "        super().__init__(name, health_point, striking_power, defensive_power)\n",
    "\n",
    "    def attack(self, second):\n",
    "        print('도끼로 찍다')\n",
    "        second.receive(self.striking_power)\n",
    "    \n",
    "    def receive(self, striking_point):\n",
    "        self.health_point = self.health_point - striking_point\n",
    "        if self.health_point <= 0:\n",
    "            print(f'{self.name}은 죽었음')\n",
    "            del self\n",
    "\n",
    "class Elf(Character):\n",
    "    def __init__(self, name='yourname', health_point=100, striking_power=15, defensive_power=3):\n",
    "        super().__init__(name, health_point, striking_power, defensive_power)\n",
    "        self.manteau = 0\n",
    "\n",
    "    def __del__(self):\n",
    "        print(f'{self.name}은 죽었으므로 더 이상 게임에 참가할 수 없습니다')    \n",
    "    \n",
    "    def attack(self, second):\n",
    "        print('활 쏘다')\n",
    "        second.receive(self.striking_power)\n",
    "    \n",
    "    def receive(self, striking_point):\n",
    "        if self.manteau <1:\n",
    "            self.health_point = self.health_point - striking_point\n",
    "            if self.health_point <= 0:\n",
    "                print(f'{self.name}은 죽었음')\n",
    "                self.__del__()\n",
    "                \n",
    "        else: \n",
    "            self.manteau -= 1\n",
    "\n",
    "\n",
    "    \n",
    "    def wear_manteau(self):\n",
    "        self.manteau += 1\n",
    "\n"
   ]
  },
  {
   "cell_type": "code",
   "execution_count": 175,
   "metadata": {},
   "outputs": [
    {
     "name": "stdout",
     "output_type": "stream",
     "text": [
      "meya은 죽었으므로 더 이상 게임에 참가할 수 없습니다\n",
      "heya\n",
      "meya\n"
     ]
    }
   ],
   "source": [
    "warriorkyle = Warrior(name='heya')\n",
    "elfkyle = Elf(name='meya')\n",
    "\n",
    "print(warriorkyle.name)\n",
    "print(elfkyle.name)"
   ]
  },
  {
   "cell_type": "code",
   "execution_count": 182,
   "metadata": {},
   "outputs": [
    {
     "name": "stdout",
     "output_type": "stream",
     "text": [
      "도끼로 찍다\n",
      "meya은 죽었음\n",
      "meya은 죽었으므로 더 이상 게임에 참가할 수 없습니다\n",
      "-40\n"
     ]
    }
   ],
   "source": [
    "warriorkyle.attack(elfkyle)\n",
    "print(elfkyle.health_point)\n"
   ]
  },
  {
   "cell_type": "code",
   "execution_count": null,
   "metadata": {},
   "outputs": [],
   "source": []
  }
 ],
 "metadata": {
  "kernelspec": {
   "display_name": "Python 3.9.13 64-bit",
   "language": "python",
   "name": "python3"
  },
  "language_info": {
   "codemirror_mode": {
    "name": "ipython",
    "version": 3
   },
   "file_extension": ".py",
   "mimetype": "text/x-python",
   "name": "python",
   "nbconvert_exporter": "python",
   "pygments_lexer": "ipython3",
   "version": "3.9.13"
  },
  "orig_nbformat": 4,
  "vscode": {
   "interpreter": {
    "hash": "b0fa6594d8f4cbf19f97940f81e996739fb7646882a419484c72d19e05852a7e"
   }
  }
 },
 "nbformat": 4,
 "nbformat_minor": 2
}
