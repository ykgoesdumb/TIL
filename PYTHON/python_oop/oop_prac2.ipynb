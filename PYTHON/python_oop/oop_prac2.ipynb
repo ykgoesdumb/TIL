{
 "cells": [
  {
   "cell_type": "markdown",
   "metadata": {},
   "source": [
    "## Class 예제"
   ]
  },
  {
   "cell_type": "markdown",
   "metadata": {},
   "source": [
    "Class 안에서의 \n",
    "\n",
    "속성(attribute)은 변수와 비슷\n",
    "\n",
    "동작(Method)는 함수와 비슷\n"
   ]
  },
  {
   "cell_type": "code",
   "execution_count": null,
   "metadata": {},
   "outputs": [],
   "source": [
    "class Square:\n",
    "    width = 0\n",
    "    height = 0\n",
    "    color = ''\n",
    "\n",
    "rectangle = Square()\n",
    "rectangle.width = 10\n",
    "rectangle.height = 5\n",
    "rectangle.color = 'red'\n",
    "\n",
    "mcSquare = Square()\n",
    "mcSquare.width = 7\n",
    "mcSquare.height = 7\n",
    "mcSquare.color = 'blue'"
   ]
  },
  {
   "cell_type": "markdown",
   "metadata": {},
   "source": [
    "파이썬 method는 항상 첫 번째 파라미터로 self 사용\n",
    "\n",
    "- 인자가 필요없을 때도 self 사용\n",
    "\n",
    "클래스의 attribute는 내부에서 접근시 self.attribute 명으로 접근"
   ]
  },
  {
   "cell_type": "code",
   "execution_count": 8,
   "metadata": {},
   "outputs": [],
   "source": [
    "class Quardrangle:\n",
    "    width = 0\n",
    "    height = 0\n",
    "    color = 'Red'\n",
    "\n",
    "    def get_area(self):\n",
    "        return self.width * self.height\n",
    "    def set_area(self, num1, num2, color):\n",
    "        self.width = num1\n",
    "        self.height = num2\n",
    "        self.color = color"
   ]
  },
  {
   "cell_type": "code",
   "execution_count": 2,
   "metadata": {},
   "outputs": [],
   "source": [
    "red = Quardrangle()\n",
    "red.set_area(5,6)"
   ]
  },
  {
   "cell_type": "code",
   "execution_count": 3,
   "metadata": {},
   "outputs": [
    {
     "name": "stdout",
     "output_type": "stream",
     "text": [
      "5 6 Red\n"
     ]
    }
   ],
   "source": [
    "print(red.width, red.height, red.color)"
   ]
  },
  {
   "cell_type": "code",
   "execution_count": 6,
   "metadata": {},
   "outputs": [
    {
     "name": "stdout",
     "output_type": "stream",
     "text": [
      "30\n"
     ]
    }
   ],
   "source": [
    "print(red.get_area())"
   ]
  },
  {
   "cell_type": "code",
   "execution_count": 9,
   "metadata": {},
   "outputs": [
    {
     "name": "stdout",
     "output_type": "stream",
     "text": [
      "50 gold\n",
      "49 blue\n"
     ]
    }
   ],
   "source": [
    "gold = Quardrangle()\n",
    "blue = Quardrangle()\n",
    "\n",
    "gold.set_area(10,5,'gold')\n",
    "blue.set_area(7,7,'blue')\n",
    "\n",
    "print(gold.get_area(), gold.color)\n",
    "print(blue.get_area(), blue.color)"
   ]
  },
  {
   "cell_type": "markdown",
   "metadata": {},
   "source": [
    "class Square:\n",
    "\n",
    "    self.weight = 0\n",
    "\n",
    "    self.heigth = 0\n",
    "    \n",
    "    self.color = 'black'\n",
    "\n",
    "이런식으로는 호룿할 수 없음\n",
    "생성자 __init__ 필요\n",
    "\n",
    "소멸자 __del__ : 클래스 소멸시 호출 한다\n",
    "\n",
    "\n",
    "(최초 생성시에는 소멸자 호출하지 않으나 2번째 부터는 기존에 있던 객체를 \n",
    "\n",
    "지우고 다시 메세지를 띄우고 다시 호출한다. 밑의 예를 보자)\n"
   ]
  },
  {
   "cell_type": "code",
   "execution_count": 15,
   "metadata": {},
   "outputs": [
    {
     "name": "stdout",
     "output_type": "stream",
     "text": [
      "previous Nemo object is deleted\n"
     ]
    }
   ],
   "source": [
    "class Nemo:\n",
    "    def __init__(self,width,height,color):\n",
    "        self.width = width\n",
    "        self.heigth = height\n",
    "        self.color = color\n",
    "    \n",
    "    def __del__(self):\n",
    "        print(\"previous Nemo object is deleted\")\n",
    "\n",
    "rectangle = Nemo(5,6,'blue')"
   ]
  },
  {
   "cell_type": "code",
   "execution_count": 24,
   "metadata": {},
   "outputs": [],
   "source": [
    "import math\n",
    "\n",
    "class Triangle:\n",
    "    def __init__(self,leg, name):\n",
    "        self.leg = leg\n",
    "        self.name = name\n",
    "    \n",
    "    def get_area(self):\n",
    "        return (math.sqrt(3) / 2) * self.leg**2\n",
    "\n",
    "\n",
    "    def get_name(self):\n",
    "        return self.name\n",
    "    \n",
    "    def __del__(self):\n",
    "        print(\"Previous Object is Deleted\")\n",
    "\n",
    "equal = Triangle(3,'equal')"
   ]
  },
  {
   "cell_type": "code",
   "execution_count": 26,
   "metadata": {},
   "outputs": [
    {
     "name": "stdout",
     "output_type": "stream",
     "text": [
      "7.794228634059947 equal\n"
     ]
    }
   ],
   "source": [
    "print(equal.get_area(), equal.get_name())"
   ]
  },
  {
   "cell_type": "code",
   "execution_count": null,
   "metadata": {},
   "outputs": [],
   "source": []
  }
 ],
 "metadata": {
  "kernelspec": {
   "display_name": "Python 3.9.13 64-bit",
   "language": "python",
   "name": "python3"
  },
  "language_info": {
   "codemirror_mode": {
    "name": "ipython",
    "version": 3
   },
   "file_extension": ".py",
   "mimetype": "text/x-python",
   "name": "python",
   "nbconvert_exporter": "python",
   "pygments_lexer": "ipython3",
   "version": "3.9.13"
  },
  "orig_nbformat": 4,
  "vscode": {
   "interpreter": {
    "hash": "b0fa6594d8f4cbf19f97940f81e996739fb7646882a419484c72d19e05852a7e"
   }
  }
 },
 "nbformat": 4,
 "nbformat_minor": 2
}
