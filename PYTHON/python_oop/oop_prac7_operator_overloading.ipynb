{
 "cells": [
  {
   "cell_type": "markdown",
   "metadata": {},
   "source": [
    "#### 연산자 중복 정의(Operator Overloading)\n",
    "- 객체에서 필요한 연산자를 재정의 하는 것\n",
    "- 연산자 중복을 위해 미리 정의된 특별한 메서드 존재: _로 시작 _로 끝나는 특수 함수\n",
    "- 해당 매써드를 구현하면, 객체에 여러가지 파이썬 내장 함수나 연산자를 재정의하여 사용 가능"
   ]
  },
  {
   "cell_type": "code",
   "execution_count": 1,
   "metadata": {},
   "outputs": [],
   "source": [
    "class Figure:\n",
    "    def __init__(self, width, height):\n",
    "        self.width = width\n",
    "        self.height = height\n",
    "\n",
    "class Quadrangle:\n",
    "    def __init__(self, width, height):\n",
    "        self.width = width\n",
    "        self.height = height\n",
    "\n",
    "    def __add__(self, second):\n",
    "        return Quadrangle(self.width + second.width, \\\n",
    "            self.height + second.height)\n"
   ]
  },
  {
   "cell_type": "code",
   "execution_count": 4,
   "metadata": {},
   "outputs": [
    {
     "data": {
      "text/plain": [
       "5"
      ]
     },
     "execution_count": 4,
     "metadata": {},
     "output_type": "execute_result"
    }
   ],
   "source": [
    "rectangle1 = Quadrangle(2,3)\n",
    "figure1 = Figure(3, 4)\n",
    "rectangle2 = rectangle1 + figure1\n",
    "rectangle2.width\n"
   ]
  },
  {
   "cell_type": "code",
   "execution_count": 8,
   "metadata": {},
   "outputs": [],
   "source": [
    "class Quadrangle:\n",
    "    def __init__(self, width, height):\n",
    "        self.width = width\n",
    "        self.height = height\n",
    "    def __add__(self, next):\n",
    "        return Quadrangle(self.width + next, self.height + next)\n",
    "    \n",
    "    # 연산자 곱셈\n",
    "    def __mul__(self, num):\n",
    "        return(self.width * num, self.height * num)\n",
    "    \n",
    "    # 연산자 len() - 길이\n",
    "    def __len__(self):\n",
    "        return self.width * 2 + self.height * 2\n",
    "\n",
    "    # 연산자 A[index] - 리스트\n",
    "    def __getitem__(self, index):\n",
    "        if index == 0 :\n",
    "            return self.width\n",
    "        elif index == 1:\n",
    "            return self.height\n",
    "    # 연산자 str() - 문자열 변환\n",
    "    def __str__(self):\n",
    "        return ' width : {}, height : {}'.format(self.width, self.height)\n",
    "\n",
    "    \n",
    "\n",
    "\n",
    "    "
   ]
  },
  {
   "cell_type": "code",
   "execution_count": 9,
   "metadata": {},
   "outputs": [
    {
     "name": "stdout",
     "output_type": "stream",
     "text": [
      "6\n",
      "6 7\n",
      " width : 2, height : 3\n",
      "(6, 9)\n",
      "10\n"
     ]
    }
   ],
   "source": [
    "rectangle1 = Quadrangle(2,3)\n",
    "rectangle3 = rectangle1 + 4\n",
    "print(rectangle3.width)\n",
    "print(rectangle3.width, rectangle3.height)\n",
    "rectangle4 = rectangle1 * 3\n",
    "print(str(rectangle1))\n",
    "print(str(rectangle4))\n",
    "print(len(rectangle1))"
   ]
  },
  {
   "cell_type": "markdown",
   "metadata": {},
   "source": [
    "#### 객체 주소 확인하기와 is == 연산자 이해하기\n",
    "- id(객체명): 객체가 가리키는 실제 주소값\n",
    "- is 와 == 연산자 차이\n",
    "    - is : 가리키는 객체 자체가 같은 경우 True\n",
    "    - == : 가리키는 값들이 같은 경우 True"
   ]
  },
  {
   "cell_type": "code",
   "execution_count": 12,
   "metadata": {},
   "outputs": [
    {
     "name": "stdout",
     "output_type": "stream",
     "text": [
      "4389174912\n",
      "4389172080\n",
      "4389174912\n",
      "False\n",
      "True\n",
      "False\n",
      "True\n"
     ]
    }
   ],
   "source": [
    "class Figure(Quadrangle):\n",
    "    pass\n",
    "\n",
    "rectangle1 = Quadrangle(1, 2)\n",
    "rectangle2 = Quadrangle(1, 2)\n",
    "rectangle3 = rectangle1\n",
    "\n",
    "# 둘다 객체명 은 같음 하지만 다른 별개의 객체이므로 다른 id 값을 출력한다\n",
    "print(id(rectangle1))\n",
    "print(id(rectangle2))\n",
    "print(id(rectangle3))\n",
    "\n",
    "# 다른 객체이다\n",
    "print(rectangle1 is rectangle2)\n",
    "\n",
    "# 같은 객체이다 동일한 id 값을 가진다\n",
    "print(rectangle1 is rectangle3)\n",
    "\n",
    "# 다른객체이며 다른 id 값을 비교하므로 \n",
    "print(rectangle1 == rectangle2)\n",
    "\n",
    "# 다른 객체지만 attribute 값이 같으므로 참으로 판별한다\n",
    "print(rectangle1.width == rectangle2.width)"
   ]
  },
  {
   "cell_type": "code",
   "execution_count": 14,
   "metadata": {},
   "outputs": [
    {
     "name": "stdout",
     "output_type": "stream",
     "text": [
      "4387835088\n",
      "4387834368\n",
      "False\n",
      "True\n",
      "True\n",
      "True\n"
     ]
    }
   ],
   "source": [
    "class Figure(Quadrangle):\n",
    "    # 연산자 ==\n",
    "    def __eq__(self, p):\n",
    "        if ((self.width == p.width) and (self.height == p.height)):\n",
    "            return True\n",
    "        else:\n",
    "            return False\n",
    "\n",
    "rectangle1 = Figure(1, 2)\n",
    "rectangle2 = Figure(1, 2)\n",
    "rectangle3 = rectangle1\n",
    "\n",
    "print(id(rectangle1))\n",
    "print(id(rectangle2))\n",
    "print(rectangle1 is rectangle2)\n",
    "print(rectangle1 is rectangle3)\n",
    "print(rectangle1 == rectangle2)\n",
    "print(rectangle1.width == rectangle2.width)\n",
    "\n"
   ]
  },
  {
   "cell_type": "markdown",
   "metadata": {},
   "source": [
    "## 과제\n"
   ]
  },
  {
   "cell_type": "code",
   "execution_count": 6,
   "metadata": {},
   "outputs": [
    {
     "name": "stdout",
     "output_type": "stream",
     "text": [
      "hi\n",
      "bye\n",
      "hello\n",
      "hello\n",
      "hi\n",
      "bye\n"
     ]
    }
   ],
   "source": [
    "\n",
    "\n",
    "class Keyword:\n",
    "    def __init__(self, word):\n",
    "        self.word = word\n",
    "\n",
    "    def __len__(self):\n",
    "        return len(self.word)\n",
    "\n",
    "    def __getitem__(self, index):\n",
    "        return self.word[index]\n",
    "    \n",
    "    def get_word(self):\n",
    "        return self.word\n",
    "\n",
    "hi = Keyword('hi')\n",
    "hello = Keyword('hello')\n",
    "bye = Keyword('bye')\n",
    "\n",
    "word_list = [hi, hello, bye]\n",
    "word_list_sorted = sorted(word_list, key=lambda x: len(x))\n",
    "\n",
    "for word in word_list_sorted:\n",
    "    print(word.get_word())\n",
    "\n",
    "word_list_sorted2 = sorted(word_list, key = lambda x: x[1])\n",
    "\n",
    "for word in word_list_sorted2:\n",
    "    print(word.get_word())\n",
    "    "
   ]
  },
  {
   "cell_type": "code",
   "execution_count": null,
   "metadata": {},
   "outputs": [],
   "source": []
  }
 ],
 "metadata": {
  "kernelspec": {
   "display_name": "Python 3.9.13 64-bit",
   "language": "python",
   "name": "python3"
  },
  "language_info": {
   "codemirror_mode": {
    "name": "ipython",
    "version": 3
   },
   "file_extension": ".py",
   "mimetype": "text/x-python",
   "name": "python",
   "nbconvert_exporter": "python",
   "pygments_lexer": "ipython3",
   "version": "3.9.13"
  },
  "orig_nbformat": 4,
  "vscode": {
   "interpreter": {
    "hash": "b0fa6594d8f4cbf19f97940f81e996739fb7646882a419484c72d19e05852a7e"
   }
  }
 },
 "nbformat": 4,
 "nbformat_minor": 2
}
