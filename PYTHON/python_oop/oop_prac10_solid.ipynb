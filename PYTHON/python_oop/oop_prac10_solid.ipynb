{
 "cells": [
  {
   "cell_type": "markdown",
   "metadata": {},
   "source": [
    "## 5가지 클래스 설계의 원칙 (SOLID)\n",
    "\n",
    "- S - SRP(single responsibility principle) - 단일책잉원칙\n",
    "- O - OCP(open closed principle) 개방 - 폐쇄 원칙\n",
    "- L - LSP(Liskov Substitusion Principle) 리스코프 치환 법칙\n",
    "- I - ISP(Interface Segregation Principle) 인터페이스 분리 원칙\n",
    "- D - DIP(Dependency Inversino principle) 의존성 역전 법칙\n",
    "\n",
    "\n",
    "\n",
    "중복코드 제거는 매우 좋다\n",
    "- 단 두번이라도 사용된다면 코드 수정시 각 코드를 모드 수정해야 하기 때문\n",
    "- 여러 동일한 코드를 수정하다보면 시간도 많이 소요, 복잡도 높아짐, 버그 가능성 많음\n",
    "- 함수로 만들거나 클래스 메서드/인터페이스로 만들던지 해야한다\n",
    "\n",
    "최적화는 제일 나중에 할것: 굳이 잘돌아가면, bottleneck 이  존재할때만\n",
    "- 괜히 최적화 한다고 중간에 막 바꾸면 시간이 많이 든다\n",
    "- 완벽하게 상세한 레벨까지 최적화된 설계를 처음부터 해도 시간이 많이 들고, 결국 실제 구현시 바뀌는 경우가 많다\n",
    "\n",
    "\n",
    "\n",
    "SRP (단일 책임 원칙)\n",
    "- 클래스는 단 한개의 책임을 가져야 한다 (클래스를 수정할 이유가 오직 하나여야 한다)\n",
    "- 예를 들면 계산기 기능 구현시 GUI, 계산 기능 분리\n",
    "\n",
    "OCP (개방 - 폐쇄 원칙)\n",
    "- 확장에는 열려있어야 하고, 변경에는 닫혀있어야함\n",
    "- 캐릭터 클래스를 만들 때, 캐릭터마다 행동이 다르다면, 행동 구현은 캐릭터 클래스의 자식 클래스에서 재정의(Method Override)\n",
    "    - 이 경우, 캐릭터 클래스는 수정할 필요 없고(변경에 닫혀 있음)\n",
    "    - 자식 클래스에서 재정의하면 됨(확장에 대해 개방)\n",
    "\n",
    "    \n",
    "\n",
    "\n"
   ]
  }
 ],
 "metadata": {
  "kernelspec": {
   "display_name": "Python 3.9.13 64-bit",
   "language": "python",
   "name": "python3"
  },
  "language_info": {
   "name": "python",
   "version": "3.9.13"
  },
  "orig_nbformat": 4,
  "vscode": {
   "interpreter": {
    "hash": "b0fa6594d8f4cbf19f97940f81e996739fb7646882a419484c72d19e05852a7e"
   }
  }
 },
 "nbformat": 4,
 "nbformat_minor": 2
}
