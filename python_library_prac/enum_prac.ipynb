{
 "cells": [
  {
   "cell_type": "code",
   "execution_count": 1,
   "metadata": {},
   "outputs": [],
   "source": [
    "from datetime import date"
   ]
  },
  {
   "cell_type": "code",
   "execution_count": 4,
   "metadata": {},
   "outputs": [],
   "source": [
    "def get_menu(input_date):\n",
    "    weekday = input_date.isoweekday()\n",
    "    if weekday == 1:\n",
    "        menu = \"김치찌개\"\n",
    "    elif weekday == 2:\n",
    "        menu = \"탕수육,짜장면\"\n",
    "    elif weekday == 3:\n",
    "        menu = \"참치찌개\"\n",
    "    elif weekday == 4:\n",
    "        menu = '설렁탕'\n",
    "    elif weekday == 5:\n",
    "        menu = '비빔밥'\n",
    "    elif weekday == 6:\n",
    "        menu = '회덮밥'\n",
    "    elif weekday == 7:\n",
    "        menu = '라면'\n",
    "    return menu\n",
    "\n"
   ]
  },
  {
   "cell_type": "code",
   "execution_count": 3,
   "metadata": {},
   "outputs": [
    {
     "name": "stdout",
     "output_type": "stream",
     "text": [
      "김치찌개\n"
     ]
    }
   ],
   "source": [
    "print(get_menu (date(2021, 12, 6)))"
   ]
  },
  {
   "cell_type": "code",
   "execution_count": 6,
   "metadata": {},
   "outputs": [],
   "source": [
    "from enum import IntEnum\n",
    "\n",
    "class Week(IntEnum):\n",
    "    MONDAY = 1\n",
    "    TUESDAY = 2\n",
    "    WEDNESDAY = 3\n",
    "    THURSDAY = 4\n",
    "    FRIDAY = 5\n",
    "    SATURDAY = 6\n",
    "    SUNDAY = 7\n",
    "\n",
    "\n",
    "def get_menu_enum(input_date):\n",
    "    menu = {\n",
    "        Week.MONDAY : '김치찌개',\n",
    "        Week.TUESDAY : '탕수육,짜장면',\n",
    "        Week.WEDNESDAY : '된장찌개',\n",
    "        Week.THURSDAY : '참치찌개',\n",
    "        Week.FRIDAY : '설렁탕',\n",
    "        Week.SATURDAY : '회덮밥',\n",
    "        Week.SUNDAY : '라면'\n",
    "    }\n",
    "    return menu[input_date.isoweekday()]\n"
   ]
  },
  {
   "cell_type": "code",
   "execution_count": 7,
   "metadata": {},
   "outputs": [
    {
     "name": "stdout",
     "output_type": "stream",
     "text": [
      "된장찌개\n",
      "김치찌개\n"
     ]
    }
   ],
   "source": [
    "print(get_menu_enum(date(2022,6,1)))\n",
    "print(get_menu(date(2009,6,1)))"
   ]
  },
  {
   "cell_type": "code",
   "execution_count": 9,
   "metadata": {},
   "outputs": [
    {
     "name": "stdout",
     "output_type": "stream",
     "text": [
      "MONDAY\n",
      "1\n",
      "WEDNESDAY\n",
      "3\n"
     ]
    }
   ],
   "source": [
    "print(Week.MONDAY.name)\n",
    "print(Week.MONDAY.value)\n",
    "\n",
    "print(Week.WEDNESDAY.name)\n",
    "print(Week.WEDNESDAY.value)\n"
   ]
  },
  {
   "cell_type": "code",
   "execution_count": 12,
   "metadata": {},
   "outputs": [
    {
     "name": "stdout",
     "output_type": "stream",
     "text": [
      "MONDAY : 1\n",
      "TUESDAY : 2\n",
      "WEDNESDAY : 3\n",
      "THURSDAY : 4\n",
      "FRIDAY : 5\n",
      "SATURDAY : 6\n",
      "SUNDAY : 7\n"
     ]
    }
   ],
   "source": [
    "for week in Week:\n",
    "    print(f\"{week.name} : {week.value}\")"
   ]
  },
  {
   "cell_type": "code",
   "execution_count": null,
   "metadata": {},
   "outputs": [],
   "source": []
  }
 ],
 "metadata": {
  "kernelspec": {
   "display_name": "Python 3.9.13 64-bit",
   "language": "python",
   "name": "python3"
  },
  "language_info": {
   "codemirror_mode": {
    "name": "ipython",
    "version": 3
   },
   "file_extension": ".py",
   "mimetype": "text/x-python",
   "name": "python",
   "nbconvert_exporter": "python",
   "pygments_lexer": "ipython3",
   "version": "3.10.9 (main, Dec 15 2022, 10:44:50) [Clang 14.0.0 (clang-1400.0.29.202)]"
  },
  "orig_nbformat": 4,
  "vscode": {
   "interpreter": {
    "hash": "b0fa6594d8f4cbf19f97940f81e996739fb7646882a419484c72d19e05852a7e"
   }
  }
 },
 "nbformat": 4,
 "nbformat_minor": 2
}
